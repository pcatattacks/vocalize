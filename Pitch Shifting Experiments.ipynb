{
 "cells": [
  {
   "cell_type": "markdown",
   "metadata": {},
   "source": [
    "# Pitch shifting experimentation\n",
    "\n",
    " - Frequency transformation without libraries (use librosa pitch shifter)\n",
    " - Search for pitch shifters in google (librosa)\n",
    " - Filtering techniques based on vocal cavity\n",
    " - Shift fundamental frequency of the voice to \n",
    " - Play around with length of window size to compute spectrogram (reconstruct with different window length) -> make different pitches\n",
    " - Do it in log scale so that the ratios stay the same (use cqt)\n",
    "\n",
    "*Goal*: Write a function that takes in a signal(one word) and fundamental frequency and returns the signal in that freq"
   ]
  },
  {
   "cell_type": "code",
   "execution_count": null,
   "metadata": {},
   "outputs": [],
   "source": [
    "import librosa\n",
    "\n"
   ]
  }
 ],
 "metadata": {
  "kernelspec": {
   "display_name": "Python 3",
   "language": "python",
   "name": "python3"
  },
  "language_info": {
   "codemirror_mode": {
    "name": "ipython",
    "version": 3
   },
   "file_extension": ".py",
   "mimetype": "text/x-python",
   "name": "python",
   "nbconvert_exporter": "python",
   "pygments_lexer": "ipython3",
   "version": "3.7.1"
  }
 },
 "nbformat": 4,
 "nbformat_minor": 2
}
