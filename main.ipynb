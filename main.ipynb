{
 "cells": [
  {
   "cell_type": "code",
   "execution_count": 1,
   "metadata": {},
   "outputs": [],
   "source": [
    "import IPython, numpy as np, scipy as sp, matplotlib.pyplot as plt, matplotlib, sklearn, librosa\n",
    "from IPython.display import Audio\n",
    "%matplotlib inline\n",
    "\n",
    "import audio_utils\n",
    "import vamp\n",
    "\n",
    "import os\n",
    "\n",
    "os.environ[\"VAMP_PATH\"] = \"./melodia_plugins/\""
   ]
  },
  {
   "cell_type": "code",
   "execution_count": 2,
   "metadata": {},
   "outputs": [],
   "source": [
    "audio_file = 'wav/hbd_snip.wav'\n",
    "def melodic_frequency_filepath(filepath):\n",
    "    audio, sr = librosa.load(filepath, mono=True)\n",
    "    data = vamp.collect(audio, sr, \"mtg-melodia:melodia\")\n",
    "    hop, melody = data['vector']\n",
    "    return melody\n",
    "\n",
    "def melodic_frequency(audio, sr):\n",
    "    data = vamp.collect(audio, sr, \"mtg-melodia:melodia\")\n",
    "    hop, melody = data['vector']\n",
    "    return melody\n"
   ]
  },
  {
   "cell_type": "code",
   "execution_count": 3,
   "metadata": {},
   "outputs": [
    {
     "data": {
      "image/png": "[encoded data removed]",
      "text/plain": [
       "<Figure size 1296x432 with 1 Axes>"
      ]
     },
     "metadata": {
      "needs_background": "light"
     },
     "output_type": "display_data"
    }
   ],
   "source": [
    "# A clearer option is to get rid of the negative values before plotting\n",
    "melody = melodic_frequency_filepath('audio/hbd_snip.wav')\n",
    "# for some reason the internal vamp architecture requires this\n",
    "timestamps = 8 * 128/44100.0 + np.arange(len(melody)) * (128/44100.0)\n",
    "melody_pos = melody[:]\n",
    "melody_pos[melody<=0] = None\n",
    "plt.figure(figsize=(18,6))\n",
    "plt.plot(timestamps, melody_pos)\n",
    "plt.xlabel('Time (s)')\n",
    "plt.ylabel('Frequency (Hz)')\n",
    "plt.show()"
   ]
  },
  {
   "cell_type": "code",
   "execution_count": 4,
   "metadata": {},
   "outputs": [
    {
     "name": "stdout",
     "output_type": "stream",
     "text": [
      "[0.02321995 0.02612245 0.02902494 ... 9.01514739 9.01804989 9.02095238]\n"
     ]
    }
   ],
   "source": [
    "# Audio(melody, rate=sr)\n",
    "print(timestamps)"
   ]
  },
  {
   "cell_type": "code",
   "execution_count": 5,
   "metadata": {},
   "outputs": [],
   "source": [
    "vamp_constant = (128/44100.0)\n",
    "\n",
    "def timestamp_to_index(timestamp):\n",
    "    index = (timestamp - (8 * vamp_constant)) / vamp_constant\n",
    "    return int(index)\n",
    "\n",
    "def find_pitch(start_time, end_time, melody):\n",
    "    start_index = timestamp_to_index(start_time)\n",
    "    end_index = timestamp_to_index(end_time)\n",
    "    relevant_frequencies = melody[start_index:end_index]\n",
    "    pitch = np.median(relevant_frequencies)\n",
    "    \n",
    "    return pitch\n",
    "\n"
   ]
  },
  {
   "cell_type": "code",
   "execution_count": 6,
   "metadata": {},
   "outputs": [
    {
     "name": "stdout",
     "output_type": "stream",
     "text": [
      "195.99771\n",
      "220.0\n",
      "195.99771\n",
      "261.62558\n",
      "246.94165\n"
     ]
    }
   ],
   "source": [
    "happy = find_pitch(2,3,melody)\n",
    "birth = find_pitch(3.5, 4.5, melody)\n",
    "day = find_pitch(5,6,melody)\n",
    "to = find_pitch(6.5, 7.5, melody)\n",
    "you = find_pitch(8,9, melody)\n",
    "print(happy)\n",
    "print(birth)\n",
    "print(day)\n",
    "print(to)\n",
    "print(you)"
   ]
  },
  {
   "cell_type": "code",
   "execution_count": null,
   "metadata": {},
   "outputs": [],
   "source": [
    "from pydub import AudioSegment\n",
    "from pydub.silence import split_on_silence\n",
    "from pydub.utils import get_array_type\n",
    "\n",
    "sound_file = AudioSegment.from_wav(\"audio/speech.wav\")\n",
    "sr = 44100\n",
    "\n",
    "audio_chunks = split_on_silence(sound_file, min_silence_len=25, silence_thresh=-15)\n",
    "\n",
    "all_segments = [np.array(chunk.get_array_of_samples(),dtype=float) for chunk in audio_chunks]\n",
    "print('all_segments', all_segments)\n",
    "\n",
    "voice_chunk_melody = [melodic_frequency(chunk, sr) for chunk in all_segments]\n",
    "\n",
    "voice_chunk_freq = [np.median(melody) for melody in voice_chunk_melody]\n",
    "\n"
   ]
  },
  {
   "cell_type": "code",
   "execution_count": null,
   "metadata": {},
   "outputs": [],
   "source": [
    "hbd_snip, sr = librosa.load(\"audio/hbd_snip.wav\")\n",
    "# sr = 44100\n",
    "onset_frames = librosa.onset.onset_detect(hbd_snip, sr=sr)\n",
    "onset_times = librosa.frames_to_time(onset_frames)\n",
    "\n",
    "def onset_interval(i, onset_start, onset_times, last_timestamp):\n",
    "    if i+1 >= len(onset_times):\n",
    "        return (onset_start, last_timestamp)\n",
    "    else:\n",
    "        return (onset_start, onset_times[i+1])        \n",
    "\n",
    "onset_intervals = [ onset_interval(i, onset, onset_times, len(hbd_snip)/ sr) for i, onset in enumerate(onset_times) ]\n",
    "\n",
    "hbd_melody = melodic_frequency(hbd_snip, sr)\n",
    "hbd_freqs = [find_pitch(start, end, hbd_melody) for start, end in onset_intervals]\n",
    "\n",
    "print('onset times', onset_times)\n",
    "print('onset intervals', onset_intervals)\n",
    "print('voice freq', voice_chunk_freq)\n",
    "print('hbd freq', hbd_freqs)\n"
   ]
  },
  {
   "cell_type": "code",
   "execution_count": null,
   "metadata": {},
   "outputs": [],
   "source": [
    "# fn = [196, 196, 220, 196, 260]\n",
    "# f0 = [186.6, 190.4, 162.9, 167.7]\n",
    "\n",
    "def autotune(signal_chunks, fn, f0, sr):\n",
    "    shifted_signal = []\n",
    "    length = min( len(fn), len(f0) )\n",
    "    for i in range(length):\n",
    "\n",
    "        n_steps = np.round(np.log2(float(fn[i])/f0[i]) * 12)\n",
    "        print(n_steps)\n",
    "\n",
    "        shifted_segment = librosa.effects.pitch_shift(signal_chunks[i], sr, n_steps)\n",
    "        shifted_signal.append(shifted_segment)\n",
    "        \n",
    "    return shifted_signal\n",
    "\n",
    "autotune(all_segments, hbd_freqs, voice_chunk_freq, sr)\n",
    "\n",
    "print(\"Generated Happy Birthday Text\")\n",
    "IPython.display.display(Audio(hbd_raw, rate=sr))\n",
    "\n",
    "shifted_signal = np.concatenate(shifted_signal)\n",
    "audio_utils.plot_audio(shifted_signal, sr=sr)\n",
    "IPython.display.display(Audio(shifted_signal, rate=sr))"
   ]
  },
  {
   "cell_type": "code",
   "execution_count": null,
   "metadata": {},
   "outputs": [],
   "source": []
  }
 ],
 "metadata": {
  "kernelspec": {
   "display_name": "Python 3",
   "language": "python",
   "name": "python3"
  },
  "language_info": {
   "codemirror_mode": {
    "name": "ipython",
    "version": 2
   },
   "file_extension": ".py",
   "mimetype": "text/x-python",
   "name": "python",
   "nbconvert_exporter": "python",
   "pygments_lexer": "ipython2",
   "version": "2.7.16"
  }
 },
 "nbformat": 4,
 "nbformat_minor": 2
}
